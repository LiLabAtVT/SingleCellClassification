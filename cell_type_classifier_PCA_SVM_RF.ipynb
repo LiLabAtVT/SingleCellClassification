{
 "cells": [
  {
   "cell_type": "code",
   "execution_count": null,
   "metadata": {},
   "outputs": [],
   "source": [
    "import pandas as pd\n",
    "import numpy as np\n",
    "from sklearn.svm import SVC\n",
    "from sklearn.neighbors import KNeighborsClassifier\n",
    "from sklearn.ensemble import RandomForestClassifier\n",
    "from sklearn.decomposition import PCA\n",
    "from sklearn.metrics import accuracy_score\n",
    "from utils import evaluate_embeddings\n",
    "from utils import mean_average_precision\n",
    "from utils import get_cell_type_map"
   ]
  },
  {
   "cell_type": "markdown",
   "metadata": {},
   "source": [
    "# Load data"
   ]
  },
  {
   "cell_type": "code",
   "execution_count": null,
   "metadata": {},
   "outputs": [],
   "source": [
    "exp_train = pd.read_csv(\"/work/alexsong/project/single_cell_analysis/data/ath/machine_learning/expression_train.csv\", index_col = 0, header = None)\n",
    "exp_test = pd.read_csv(\"/work/alexsong/project/single_cell_analysis/data/ath/machine_learning/expression_test.csv\", index_col = 0, header = None)\n",
    "meta_train = pd.read_csv(\"/work/alexsong/project/single_cell_analysis/data/ath/machine_learning/meta_data_train.csv\", index_col = 0, header = 0)\n",
    "meta_test = pd.read_csv(\"/work/alexsong/project/single_cell_analysis/data/ath/machine_learning/meta_data_test.csv\", index_col = 0, header = 0)"
   ]
  },
  {
   "cell_type": "code",
   "execution_count": null,
   "metadata": {},
   "outputs": [],
   "source": [
    "features_train = exp_train.values.T\n",
    "features_test = exp_test.values.T\n",
    "label_names = meta_train.loc[:,\"cell_type\"].unique()\n",
    "names_to_id = { key:val for val,key in enumerate(label_names)}\n",
    "labels_train = meta_train.loc[:,\"cell_type\"].replace(names_to_id).values\n",
    "labels_test = meta_test.loc[:,\"cell_type\"].replace(names_to_id).values"
   ]
  },
  {
   "cell_type": "markdown",
   "metadata": {},
   "source": [
    "# Train classsifer"
   ]
  },
  {
   "cell_type": "code",
   "execution_count": null,
   "metadata": {},
   "outputs": [],
   "source": [
    "clf_svm = SVC(probability=True).fit(features_train, labels_train)\n",
    "clf_rf = RandomForestClassifier(n_estimators = 500, n_jobs = 42).fit(features_train, labels_train)\n",
    "clf_knn = KNeighborsClassifier(n_neighbors = 50, n_jobs = 42).fit(features_train, labels_train)\n",
    "clf_pca = PCA(n_components=100).fit(features_train)"
   ]
  },
  {
   "cell_type": "markdown",
   "metadata": {},
   "source": [
    "# Predict cell types / embeddings"
   ]
  },
  {
   "cell_type": "code",
   "execution_count": null,
   "metadata": {},
   "outputs": [],
   "source": [
    "clfs = [clf_svm, clf_rf, clf_knn]\n",
    "labels_pred = []\n",
    "prob_pred = []\n",
    "\n",
    "for clf in clfs:\n",
    "    prob_pred_all = clf.predict_proba(features_test)\n",
    "    labels_pred.append(np.argsort(-prob_pred_all,axis = 1)[:,0])\n",
    "    prob_pred.append(np.array([prob_pred_all[i,labels_pred[-1][i]] for i in range(labels_pred[-1].shape[0])]))\n",
    "\n",
    "pca_train_embbedings = clf_pca.fit_transform(features_train)\n",
    "pca_test_embbedings = clf_pca.fit_transform(features_test)"
   ]
  },
  {
   "cell_type": "markdown",
   "metadata": {},
   "source": [
    "# Evaluate predicted cell types / embbedings"
   ]
  },
  {
   "cell_type": "code",
   "execution_count": null,
   "metadata": {},
   "outputs": [],
   "source": [
    "acc = []\n",
    "overall_map = []\n",
    "cell_type_map = []\n",
    "for y_pred, y_prob_pred, y_test in zip(labels_pred, prob_pred, np.tile(labels_test,(3,1))):\n",
    "    acc.append(accuracy_score(y_test, y_pred))\n",
    "    overall_map.append(mean_average_precision(y_test, y_pred, y_prob_pred))\n",
    "    cell_type_map.append(get_cell_type_map(label_names.shape[0], y_test, y_pred, y_prob_pred))"
   ]
  },
  {
   "cell_type": "code",
   "execution_count": null,
   "metadata": {},
   "outputs": [],
   "source": [
    "y_prob_pred"
   ]
  },
  {
   "cell_type": "code",
   "execution_count": 27,
   "metadata": {},
   "outputs": [],
   "source": [
    "pca_acc, pca_overall_map, pca_cell_type_map = evaluate_embeddings(pca_train_embbedings, pca_test_embbedings, labels_train, labels_test, k = 50, n_cell_types = label_names.shape[0])"
   ]
  },
  {
   "cell_type": "code",
   "execution_count": 28,
   "metadata": {},
   "outputs": [
    {
     "data": {
      "text/plain": [
       "0.4058333333333333"
      ]
     },
     "execution_count": 28,
     "metadata": {},
     "output_type": "execute_result"
    }
   ],
   "source": [
    "pca_acc"
   ]
  },
  {
   "cell_type": "code",
   "execution_count": 29,
   "metadata": {},
   "outputs": [
    {
     "data": {
      "text/plain": [
       "0.6180454613268721"
      ]
     },
     "execution_count": 29,
     "metadata": {},
     "output_type": "execute_result"
    }
   ],
   "source": [
    "pca_overall_map"
   ]
  },
  {
   "cell_type": "code",
   "execution_count": 30,
   "metadata": {},
   "outputs": [
    {
     "data": {
      "text/plain": [
       "array([0.21323967, 0.83016172, 0.62148272, 0.02641477, 0.00138518,\n",
       "       0.71543177, 0.06871858, 0.74733573, 0.96045126, 0.90009247,\n",
       "       0.04049868, 0.58664786])"
      ]
     },
     "execution_count": 30,
     "metadata": {},
     "output_type": "execute_result"
    }
   ],
   "source": [
    "pca_cell_type_map"
   ]
  },
  {
   "cell_type": "code",
   "execution_count": null,
   "metadata": {},
   "outputs": [],
   "source": []
  }
 ],
 "metadata": {
  "kernelspec": {
   "display_name": "Python 2",
   "language": "python",
   "name": "python2"
  },
  "language_info": {
   "codemirror_mode": {
    "name": "ipython",
    "version": 2
   },
   "file_extension": ".py",
   "mimetype": "text/x-python",
   "name": "python",
   "nbconvert_exporter": "python",
   "pygments_lexer": "ipython2",
   "version": "2.7.14"
  }
 },
 "nbformat": 4,
 "nbformat_minor": 2
}
